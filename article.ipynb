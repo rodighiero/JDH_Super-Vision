{
 "cells": [
  {
   "cell_type": "markdown",
   "metadata": {
    "citation-manager": {
     "citations": {
      "": []
     }
    },
    "tags": [
     "title"
    ]
   },
   "source": [
    "# Super-Vision: Tracing EPFL History Through 8,000 Doctoral Theses"
   ]
  },
  {
   "cell_type": "markdown",
   "metadata": {
    "tags": [
     "contributor"
    ]
   },
   "source": [
    " ### Dario  Rodighiero [![orcid](https://orcid.org/sites/default/files/images/orcid_16x16.png)](https://orcid.org/0000-0002-1405-7062) \n",
    "University of Groningen"
   ]
  },
  {
   "cell_type": "markdown",
   "metadata": {
    "tags": [
     "contributor"
    ]
   },
   "source": [
    "### Philippe  Rivière\n",
    "Visionscarto"
   ]
  },
  {
   "cell_type": "markdown",
   "metadata": {
    "tags": [
     "contributor"
    ]
   },
   "source": [
    "### Sarah  Kenderdine [![orcid](https://orcid.org/sites/default/files/images/orcid_16x16.png)](https://orcid.org/0000-0002-7190-9946)\n",
    "École polytechnique fédérale de Lausanne"
   ]
  },
  {
   "cell_type": "markdown",
   "metadata": {
    "tags": [
     "copyright"
    ]
   },
   "source": [
    "[![cc-by](https://licensebuttons.net/l/by/4.0/88x31.png)](https://creativecommons.org/licenses/by/4.0/) \n",
    "© Rodighiero, Rivière, and Kenderdine. Published by De Gruyter in cooperation with the University of Luxembourg Centre for Contemporary and Digital History. This is an Open Access article distributed under the terms of the [Creative Commons Attribution License CC-BY](https://creativecommons.org/licenses/by/4.0/)\n"
   ]
  },
  {
   "cell_type": "markdown",
   "metadata": {
    "tags": [
     "keywords"
    ]
   },
   "source": [
    "academic advising, experimental museology, network visualization, text analysis, timelines"
   ]
  },
  {
   "cell_type": "markdown",
   "metadata": {
    "tags": [
     "abstract"
    ]
   },
   "source": [
    "The fiftieth anniversary of EPFL (_École Polytechnique Fédérale de Lausanne_) offered the opportunity to retrace the institute's history through its digital archives. Part of the exhibition Infinity Room 2, Super-Vision investigates the practice of advising by visualizing 8,000 doctoral theses in a digital installation at the intersection of art, science, and technology.\n",
    "\n",
    "Inaugurated in September 2019 at EPFL Pavilions, Super-vision is a diachronic mapping project that uses artificial intelligence to shed light on a dataset that would otherwise be unobservable. A network visualization presenting doctoral theses by lexical similarity combines with a circularly-bent timeline showing the frequency of publication over the year.\n",
    "\n",
    "The title Super-Vision has a twofold meaning: on the one hand, it refers to the academic practice that connects students and supervisors; on the other hand, it employs information design as a visual instrument to look at complex phenomena differently. The result offers museum visitors a unique perspective to look at the institution with different eyes."
   ]
  },
  {
   "cell_type": "markdown",
   "metadata": {},
   "source": [
    "## Introduction"
   ]
  },
  {
   "cell_type": "markdown",
   "metadata": {},
   "source": [
    "The Swiss Federal Institute of Technology in Lausanne (_École Polytechnique Fédérale de Lausanne_, or EPFL) is a young university celebrating its 50th anniversary. The EPFL hosted many events for this anniversary, including a special exhibition tracing its history via digital archives. This exhibition, called _Infinity Room 2_, was organized by Prof. Sarah Kenderdine, director of the Laboratory of Experimental Museology (eM+) and EPFL Pavilions, the institutional museum designed by the acclaimed architect Kengo Kuma. Infinity Room 2 was inaugurated in September 2019 in the wooden building of EPFL Pavilions."
   ]
  },
  {
   "cell_type": "markdown",
   "metadata": {},
   "source": [
    "EPFL features a variety of digital archives collecting data from different sources. Arguably, its most-known digital collection focuses on the Montreux Jazz Festival, a renowned Swiss music event that records and stores audiovisual material from the 60s’ (<cite data-cite=\"1465847/AA6M2NSK\"></cite>). However, despite such popularity, each single EPFL archive offers its perspective on history, which is worth exploring.\n"
   ]
  },
  {
   "cell_type": "markdown",
   "metadata": {},
   "source": [
    "This article is focused on the archives regarding academic practice and its evolution. Since the advent of information systems, the multifaceted practice of researchers, teachers, and professors (<cite data-cite=\"1465847/WBHF5924\"></cite>) has been saved and stored for administrative and research purposes during a progressive process of datafication (<cite data-cite=\"1465847/JS73NI4F\"></cite>). As a part of the exhibition Infinity Room 2, the project _Super-Vision_ aims to represent one dimension of academic activities, supervision. Supervision is synonymous with academic advising, which refers explicitly to “situations in which an institutional representative gives insight or direction to a college student about an academic, social or personal matter” (<cite data-cite=\"1465847/VIKANIT7\"></cite>). Specifically, the project narrows down to a specific product of academic advising, doctoral studies. The goal is to retrace EPFL’s footsteps by visualizing the records of the Ph.D. theses defended over five decades to offer scientists and museum visitors an overview of the growth that brought EPFL to take first place in the academic ranking of young universities.\n"
   ]
  },
  {
   "cell_type": "markdown",
   "metadata": {},
   "source": [
    "## Visualizing the Science in the Making"
   ]
  },
  {
   "cell_type": "markdown",
   "metadata": {},
   "source": [
    "Infinity Room 2 occurs when cultural institutions establish interdisciplinary collaborations under the acronym of GLAM, which stands for “galleries, libraries, archives, and museums” (Australian Society of Archivists, 2003). Empowered by the digital turn, the GLAM initiative now invests time and energy in digital archives, especially digitalization, preservation, and visualization (Cameron & Kenderdine, 2007). In the context delineated by GLAM, Super-Vision is a work of experimental museology at the intersection between Science and Technology Studies (STS) and science mapping (Börner, 2010, 2015). Indeed, both disciplines aim to understand the science in the making: while STS reinterprets museums as observatories to look at science, in science mapping, the scholars use data visualizations as an instrument to reveal patterns and structures.\n"
   ]
  },
  {
   "cell_type": "markdown",
   "metadata": {},
   "source": [
    "Origins of this intersection of different domains are rooted in STS, which analyzes the many aspects of science in their historical, cultural, and social context. In 1986, Bruno Latour and Steve Woolgar published a revolutionary book, Laboratory Life, unveiling the process of science-making at the Salk Institute for Biological Studies (Latour and Woolgar, 1986). Previously, science appeared in publications, conferences, and awards, but this book drastically changed the public’s perception of science. The daily life of scientists was disclosed by observing them in their environment, like studying gorillas in their natural habitat. As pointed out in the book’s preface by the institute’s funder Jonas Salk, although scientists felt uncomfortable being observed, the study provided valuable information for understanding the scientific environment. Latour and Woolgar, in particular, introduced an innovative way to look at science, contributing to developing the concept of “science in the making,” which aims to reveal the human, relational, and technological making of science (Shapin, 1992).\n"
   ]
  },
  {
   "cell_type": "markdown",
   "metadata": {},
   "source": [
    "A few years later, when curators Barbara Vanderlinden and Hans Ulrich Obrist organized the exhibition Laboratorium, which took place in 1999 at the Provinciaal Fotografie Museum in Antwerp, perhaps they did not expect to create a so-solid partnership between STS and museology (Gorman, 2020). Their exhibition prompted questions about the perception of science by the general public, investigating “the gap between the specialized vocabulary of science, art, and the general interest of the audience” by looking at the museum gallery as a scientific laboratory to run experiments (Obrist and Vanderlinden, 2001). The science in the making was thus addressed to a broader audience by bringing scientific practice into museums. At that time, Bruno Latour and Peter Galison were put in touch with Caroline Jones and Peter Weibel, generating a spark that led later to four exhibitions curated by Latour and Weibel at the Zentrum für Kunst und Medien (Latour & Leclercq, 2016; Latour & Weibel, 2002, 2005, 2020). This encounter between scholars and curators is a landmark in the collaboration between science and museums, giving fresh perspectives on how museums can establish scientific dialogues with their public.\n"
   ]
  },
  {
   "cell_type": "markdown",
   "metadata": {},
   "source": [
    "When scientific works became part of exhibitions, “old museum collections and new technologies come together, tracing the translation and extension of collections from card catalogues, storerooms and display cases into digital websites, imaging platforms and collection management systems” (Geismar, 2018, p. xviii). Museum collections, for example, are increasingly undergoing a digitalization process to be widely accessible, as in the case of 250,000 artworks and 10 million annotations provided by Harvard Art Museums. Another significant aspect of digital technology is the introduction of digital devices and exhibition objects to support museum activity (Isaac, 2008). Along with digital uses related to painting, photography, sculpture, installations, videos, and software art (Paul, 2015), also the practice of data visualization entered museums (Manovich, 2018). For example, the celebrated Museum of Modern Art was among the first institutions to showcase data visualizations, including in its permanent collection works by Giorgia Lupi and Stefanie Posavec (2016) or Vladan Joler and Kate Crawford (2018). As early as 2008, Paola Antonelli included data-visualization artifacts in the exhibition Design and the Elastic Mind to emphasize designers’ ability to understand the changes in technology and society through objects (Antonelli, 2008; Cogdell, 2009). Since then, more and more museums have embraced data visualizations as centerpieces in their exhibitions.\n"
   ]
  },
  {
   "cell_type": "markdown",
   "metadata": {},
   "source": [
    "Super-Vision is an interdisciplinary project at the intersection between science mapping (Petrovich, 2020) and experimental museology (Laboratory for Experimental Museology, 2019), which makes use of complex data visualizations (Lima, 2011) to make visible the academic practice (XXX, 2021). In a historical moment when universities devote more attention to public opinion, opening increasingly public spaces to host visitors, Super-Vision fits into a small niche where the work of scientists is made public in their organizations. The recent construction of EPFL Pavilions imitates the renowned American institutes, which host museums on the campus for visitors and pedagogical purposes, as in the case of Harvard Art Museums (Cuno, 1996). Scientists can now communicate with a broader audience through museums, making their work transparent and accessible. As this case demonstrates, Super-Vision is a project that addresses its message firstly to EPFL staff and students and secondly to the alums and all those individuals who have ever had a personal relationship with this organization. Internally, the goal is to create a sense of belonging and a greater awareness of the organization; externally, Super-Vision can be seen as an experiment of digital history in which the visualization of digital archives aims at telling a story to visitors.\n"
   ]
  },
  {
   "cell_type": "markdown",
   "metadata": {},
   "source": [
    "## Visualizing Doctoral Theses\n"
   ]
  },
  {
   "cell_type": "markdown",
   "metadata": {},
   "source": [
    "Data visualization is the technical means through which Super-Vision reveals EPFL scientific practice to visitors. Despite the availability of different digital archives, the collection of 8,000 doctoral theses was chosen because capable of presenting an unusual view of the institution. This archive is publicly accessible through Infoscience, an information system maintained by the EPFL library to collect and maintain institutional literature. Since many scientific publications are affected by copyright restrictions (MIT Libraries, 2019), doctoral theses have the rare quality of being freely accessible along with their metadata. In addition, these collections are usually characterized by a continuous flow of publications over time, a fundamental dimension for time-based analysis. The totality of these characteristics permits to traverse of two aspects of archival information. On the one hand, documents can be explored through their textual dimension (Meirelles 2013,  185-203) using techniques of natural language processing; on the other hand, the frequency can reveal invisible patterns about the evolution of the university.\n"
   ]
  },
  {
   "cell_type": "code",
   "execution_count": null,
   "metadata": {},
   "outputs": [],
   "source": [
    "from IPython.display import Image \n",
    "metadata={\n",
    "    \"jdh\": {\n",
    "        \"module\": \"object\",\n",
    "        \"object\": {\n",
    "            \"type\":\"image\",\n",
    "            \"source\": [\n",
    "                \"This time-based analysis shows the distribution of doctoral theses over the years. It is possible to grasp the corpus length, frequency, and gaps immediately. Some do not have the day and month of discussion, metadata simulated to preserve continuity in the animation.\"\n",
    "            ]\n",
    "        }\n",
    "    }\n",
    "}\n",
    "display(Image(\"media/wrangling.png\"), metadata=metadata)"
   ]
  },
  {
   "cell_type": "markdown",
   "metadata": {},
   "source": [
    "Super-Vision is a web-based data visualization in which the doctoral theses are arranged to reveal EPFL epistemic evolution in the last fifty years. Work’s name has a twofold meaning: it refers to the educational practice of supervision and the perception of advanced optical instruments (Manovich, 2008; Rosnay, 2014; Willett et al., 2022).\n"
   ]
  },
  {
   "cell_type": "markdown",
   "metadata": {},
   "source": [
    "Super-Vision is an interactive circular-shaped visualization composed of two elements (see Figure 2). Its core hosts a network visualization that arranges the doctoral theses according to lexical similarity; the more two are nearby in the Cartesian plane, the greater the similarity between their associated textual information (Moon & Rodighiero, 2020). An outer circle frames the visualization working as a line chart in which the frequency is represented. The two statistical dimensions of the network and the line chart show EPFL doctoral theses by similarity and time, offering a complementary look at two sides of the same coin. Such a double view of the dataset allows the viewer to look at the collection from different perspectives, like Charles Joseph Minard’s well-known visualization of the Russian campaign (Rendgen, 2018), which presents Napoleon’s defeat through geographical and quantitative dimensions.\n"
   ]
  },
  {
   "cell_type": "markdown",
   "metadata": {},
   "source": [
    "The network visualization comprises gray dots, which embody successful doctoral defenses. By clicking on one thesis, the user gets the title and the candidate’s name, faculty, and director/s. Each thesis is surrounded by similar works, representing the scientific neighborhood in which candidates advanced similar research topics. The metric of lexical similarity between the theses is based on text analysis (Manning & Schütze, 1999). Titles, abstracts, and the first ten pages of full texts are analyzed and compared by word frequency using a technique called term frequency-inverse document frequency, which finds the most relevant terms compared to the entire corpus (Salton et al., 1975). The matrix resulting from this operation is successively translated through another algorithm belonging to the family of artificial intelligence, dimensionality reduction. The dimensionality reduction technique decreases the whole lexicon from a high-dimensional space to the two dimensions of the Cartesian plane, enabling mapping (McInnes et al., 2018). The effectiveness of the spatial arrangement is proven by the structure of faculties, revealed by interaction. By clicking on a thesis, the faculty’s ramified structure glows in the background. Its ramified extension is identified by the Urquhart graph, which removes each triangle’s most extended edges in the Delaunay triangulation, thus simplifying network connectivity (Urquhart, 1980). The doctoral theses of each faculty are grouped in one or two clusters, indicating a similarity in the lexicon employed. Such proximity suggests that the frequency-based metric used to organize the theses was successful. A scattered structure, on the contrary, would have corresponded to a non-uniform corpus, indicating a potential risk of data inconsistency.\n"
   ]
  },
  {
   "cell_type": "markdown",
   "metadata": {},
   "source": [
    "On the other hand, the timeline is a line chart showing EPFL’s constant growth of doctoral students, which came along with the lead on the Times-Higher Education Young University Ranking (Mediacom, 2016). This ranking indicates the fastest-growing universities in the last fifty years, whose goal is to highlight the institutions without a century-old history. This timeline is not only an infographic but also an interface controller to move through time. By dragging its curve-shaped handler, the theses being defended in that specific time window bounce in and out to capture the user’s attention. Also, the handler’s length shortens with time because theses increase is significant. During the 1960s, there was roughly one doctoral defense per month, while EPFL today exceeds one thesis per day. To a keen eye, this stunning insight is not only a statistical increase but also points out the institution’s politics of preventing permanent positions in the intermediary staff, preferring to invest money in less-expensive doctoral students to advance research. The timeline also shows how some theses are older than the institution itself. The reason is that EPFL was previously part of the University of Lausanne, from which it was separated in 1969, making it the second Swiss federal institute along with ETH Zürich. This political decision allowed the creation of another polytechnical school to balanced French- and German-speaking institutes in the federation.\n"
   ]
  },
  {
   "cell_type": "markdown",
   "metadata": {},
   "source": [
    "It is worth noting that Super-Vision is a compound object composed of two data visualizations. The network visualization at the center is static, and only the support of an interactive timeline makes it navigable through time. The static nature of the network is mitigated by an animation that wakes up dots via interaction. The result is a multidimensional visualization that uses interaction design to reveal insights. This combination shows us how information and interaction design are intimately connected by their shared goal of understanding data, as Manuel Lima openly discussed in a recent interview (XXX, 2021).\n"
   ]
  },
  {
   "cell_type": "code",
   "execution_count": null,
   "metadata": {},
   "outputs": [],
   "source": [
    "from IPython.display import Image \n",
    "metadata={\n",
    "    \"jdh\": {\n",
    "        \"module\": \"object\",\n",
    "        \"object\": {\n",
    "            \"type\":\"image\",\n",
    "            \"source\": [\n",
    "                \"Super-Vision is a web-based application showing more than 8,000 doctoral theses according to their lexical similarity. The large dot to the left represents the selected thesis, while transparent dots are the theses published in the same period, also indicated by the timeline. The network-like structure in the background is drawn with brilliant white to highlight the faculty’s structure.\"\n",
    "            ]\n",
    "        }\n",
    "    }\n",
    "}\n",
    "display(Image(\"media/roberto.png\"), metadata=metadata)"
   ]
  },
  {
   "cell_type": "markdown",
   "metadata": {},
   "source": [
    "## Digital Installation"
   ]
  },
  {
   "cell_type": "markdown",
   "metadata": {},
   "source": [
    "Super-Vision was explicitly designed for the exhibition Infinity Room 2. The choice of designing a circular shape was not only derived from the network's form but also suggested by the availability of a round-shaped projection surface already employed by EM+ in another exhibition. The support, measuring one meter and a half, was intended to hang in the gallery to maintain the text’s verticality.\n"
   ]
  },
  {
   "cell_type": "markdown",
   "metadata": {},
   "source": [
    "The digital installation was completed with a one-meter column, placed three meters from the projection and able to host a projector. All these choices were driven by an accurate balance that considered the spectator’s point of view along with the image’s and projector’s resolution, room and screen luminosity, and the readability of text.\n"
   ]
  },
  {
   "cell_type": "markdown",
   "metadata": {},
   "source": [
    "The column also hosted a device to interact with the data visualization. A three-dimensional mouse was particularly appropriate to browse the theses and control the timeline by rotating the device in clockwise or counterclockwise directions. This latter characteristic was particularly relevant as it recalls the rounded shape of the visualization, creating a cognitive correspondence between shape and functionality.\n"
   ]
  },
  {
   "cell_type": "markdown",
   "metadata": {},
   "source": [
    "The final version of the digital installation is visible in Figure 3. Super-Vision was hosted in a specific niche of the long hall that characterizes EPFL Pavilions. The visitor was naturally invited to enter the dedicated space, finding the controller placed on the column in front of the projection.\n"
   ]
  },
  {
   "cell_type": "markdown",
   "metadata": {},
   "source": [
    "An idle function automatically animated the data visualization by advancing the timeline’s selector to inform the visitors about the interactivity of the digital installation. The animation was frozen when the visitor took control of the mouse and reverted to idle mode after a short period of inactivity.\n"
   ]
  },
  {
   "cell_type": "code",
   "execution_count": null,
   "metadata": {},
   "outputs": [],
   "source": [
    "from IPython.display import Image \n",
    "metadata={\n",
    "    \"jdh\": {\n",
    "        \"module\": \"object\",\n",
    "        \"object\": {\n",
    "            \"type\":\"image\",\n",
    "            \"source\": [\n",
    "                \"This photograph shows how Super-Vision appeared in EPFL Pavilions. Visitors take place in front of the projection, behind a wooden column hosting the projector and the three-dimensional mouse. Their curiosity is attracted by automatic idle navigation and the light contrast.\"\n",
    "            ]\n",
    "        }\n",
    "    }\n",
    "}\n",
    "display(Image(\"media/installation.jpg\"), metadata=metadata)"
   ]
  },
  {
   "cell_type": "markdown",
   "metadata": {},
   "source": [
    "## Design Process"
   ]
  },
  {
   "cell_type": "markdown",
   "metadata": {},
   "source": [
    "Super-Vision resulted from a participatory design (Bannon et al., 2018), which occurs when professionals with different skills collaborate. The design process included data science, information design, experimental museology, and academic research.\n"
   ]
  },
  {
   "cell_type": "markdown",
   "metadata": {},
   "source": [
    "The general concept of the digital installation originated from the idea of a time-based data visualization showing EPFL doctoral theses. Initially, the theses’ metadata were downloaded from Infoscience and expanded with full-text PDFs. Then, the textual data were analyzed to extract the most relevant terms. This initial analysis immediately confirmed the necessary condition of the collection’s continuity over time and highlighted the quantitative disparity between current and past theses. This difference was given attention during the design process, bringing to the creation of the timeline to point out such a significant increase.\n"
   ]
  },
  {
   "cell_type": "markdown",
   "metadata": {},
   "source": [
    "The development was facilitated by Observable, an online notebook to treat and plot data in JavaScript. Such a platform was founded by the inventor of the library d3.js, which earned its reputation by making accessible the art of visualization through a simple way of programming (Bostock et al., 2011).\n"
   ]
  },
  {
   "cell_type": "markdown",
   "metadata": {},
   "source": [
    "While the computer programming phase was active on Observable, using AI algorithms to analyze and plot the dataset, provisional results underwent a process of graphic and interaction design for the sake of readability and intelligibility. The data visualization was adapted to the exhibition’s style guide by accurately balancing colors, fonts, and shapes. In addition, the network was enhanced with interactions and animations, and the timeline took a circular form.\n"
   ]
  },
  {
   "cell_type": "markdown",
   "metadata": {},
   "source": [
    "It is worth noticing that each collaborator was working from a different country at this stage; today, video and textual communication platforms make international collaboration relatively smooth. However, a part of the budget was used to meet together a couple of months before the opening to finalize the work. Although the design process effortlessly moved forward online, the opportunity to work together allowed the team to complete the last details, such as the physical installation, whose tuning would not be accessible through communication platforms. Visiting the exhibition space and testing the various technical devices was an operation that had to be done in the physical space.\n"
   ]
  },
  {
   "cell_type": "markdown",
   "metadata": {},
   "source": [
    "## Conclusion"
   ]
  },
  {
   "cell_type": "markdown",
   "metadata": {},
   "source": [
    "Digital archives are valuable sources of information retracing the most recent history of scientific institutions. Scientists can use data visualization techniques as instruments to investigate these archives, obtaining new perspectives on datasets that would be difficult to read otherwise.\n"
   ]
  },
  {
   "cell_type": "markdown",
   "metadata": {},
   "source": [
    "This article demonstrates the potential of interdisciplinary collaboration, especially in experimental museology. Museums are perfect places for experimenting with data, art, and science when interdisciplinarity seems to be affected by a lack of freedom in academic research (XXX, 2021).\n"
   ]
  },
  {
   "cell_type": "markdown",
   "metadata": {},
   "source": [
    "It is interesting to observe how data visualization continues its pervasive run across academic disciplines and qualified professionals. Since data visualization is a recent research subject, its transversality allows scholars to cover the distance between disciplines, just as computer science did in the last decades. The subsequent developments in data visualization have to be followed closely, mainly when associated with public spaces. And museums provide an opportunity to give a physical space for data visualization. Compared to the more rigid structure of academia, museums freely move and experiment in the space between art and science, blurring its borders. As Hans Ulrich Obrist and Barbara Vanderlinden mentioned, museums can be seen as scientific laboratories where scholars can experiment more freely.\n"
   ]
  },
  {
   "cell_type": "markdown",
   "metadata": {},
   "source": [
    "## Acknowledgments"
   ]
  },
  {
   "cell_type": "markdown",
   "metadata": {},
   "source": [
    "This article would not be possible without the financial help of the Swiss National Science Foundation, which funded grant number P400PS_194442, Recommendation System for Academic Mobility. Thanks to Patrick Donaldson and Giulia Bini, who supported the project during its development. Thanks also to Maxene Graze, whose final editing gave the text the final form.\n"
   ]
  },
  {
   "cell_type": "code",
   "execution_count": null,
   "metadata": {},
   "outputs": [],
   "source": []
  }
 ],
 "metadata": {
  "celltoolbar": "Tags",
  "citation-manager": {
   "items": {}
  },
  "cite2c": {
   "citations": {
    "1465847/7TFQS735": {
     "id": "1465847/7TFQS735",
     "title": "DeNeef & Goodwin. 1995. The academic's handbook.pdf",
     "type": "article"
    },
    "1465847/8VGXB95E": {
     "DOI": "10.1007/978-3-030-83647-4_1",
     "abstract": "This article addresses the potential for computational practises within archival and museological domains by charting a positional shift occurring in digital archives",
     "author": [
      {
       "family": "Kenderdine",
       "given": "Sarah"
      },
      {
       "family": "Mason",
       "given": "Ingrid"
      },
      {
       "family": "Hibberd",
       "given": "Lily"
      }
     ],
     "id": "1465847/8VGXB95E",
     "issued": {
      "year": 2021
     },
     "note": "Place: Cham\nPublisher: Springer International Publishing",
     "page": "3-18",
     "page-first": "3",
     "title": "Computational archives for experimental museology",
     "type": "article-journal",
     "volume": "EXPERIMENTAL MUSEOLOGY: IMMERSIVE VISUALISATION AND CULTURAL (BIG) DATA"
    },
    "1465847/AA6M2NSK": {
     "ISBN": "978-3-030-83647-4",
     "abstract": "This article addresses the potential for computational practises within archival and museological domains by charting a positional shift occurring in digital archives; from working with an object orientation and containment – to computing with a dimension orientation, segmentation, analytics and visualization. Computational museology allows us to conceive new trajectories that link all forms of cultural materiality: objects, knowledge systems, representation and participation. Following key definitions, the authors: outline state of the art in archival access and museological engagement through a series of examples; examine advances in the computational analysis of archives exploring forward-looking trends for massive digital cultural archives; and introduce an upcoming project, Narratives from the long tail: transforming access to audiovisual archives.",
     "author": [
      {
       "family": "Kenderdine",
       "given": "Sarah"
      },
      {
       "family": "Mason",
       "given": "Ingrid"
      },
      {
       "family": "Hibberd",
       "given": "Lily"
      }
     ],
     "container-title": "Emerging Technologies and the Digital Transformation of Museums and Heritage Sites",
     "editor": [
      {
       "family": "Shehade",
       "given": "Maria"
      },
      {
       "family": "Stylianou-Lambert",
       "given": "Theopisti"
      }
     ],
     "event-place": "Cham",
     "id": "1465847/AA6M2NSK",
     "issued": {
      "year": 2021
     },
     "page": "3-18",
     "page-first": "3",
     "publisher": "Springer International Publishing",
     "publisher-place": "Cham",
     "title": "Computational Archives for Experimental Museology",
     "type": "paper-conference"
    },
    "1465847/IXIIZPXT": {
     "id": "1465847/IXIIZPXT",
     "title": "Gordon et al. - 2008 - Academic Advising A Comprehensive Handbook.pdf",
     "type": "article"
    },
    "1465847/JS73NI4F": {
     "ISBN": "978-1-5297-3253-5 978-1-5297-3254-2",
     "author": [
      {
       "family": "Beaulieu",
       "given": "Anne"
      },
      {
       "family": "Leonelli",
       "given": "Sabina"
      }
     ],
     "edition": "Preprint Edition",
     "event-place": "Thousand Oaks, CA",
     "id": "1465847/JS73NI4F",
     "issued": {
      "year": 2021
     },
     "publisher": "Sage Publications",
     "publisher-place": "Thousand Oaks, CA",
     "title": "Data and society: a critical introduction",
     "type": "book"
    },
    "1465847/N5LFVNWQ": {
     "DOI": "10/gfvs3w",
     "abstract": "This article concerns a specific actor in the actualization process, the media. The conventional media for visualizations is the computer screen, a visual device that supports the practices of design and reading. However, visualizations also appear in other ways, for example as posters, articles, books, or projections. This article focuses, in particular, on a pretty unusual medium called floor or walkable visualization.",
     "author": [
      {
       "family": "Rodighiero",
       "given": "Dario"
      }
     ],
     "container-title": "Proceedings of the 5th Biennial Research Transdisciplinary Imaging Conference",
     "issued": {
      "date-parts": [
       [
        2018
       ]
      ]
     },
     "language": "English",
     "page": "58–73",
     "publisher": "Figshare",
     "title": "Printing walkable visualizations",
     "type": "paper-conference"
    },
    "1465847/R3MUMX97": {
     "id": "1465847/R3MUMX97",
     "title": "Kenderdine et al. - 2021 - Computational archives for experimental museology.pdf",
     "type": "article"
    },
    "1465847/VIKANIT7": {
     "edition": "Second edition",
     "editor": [
      {
       "family": "Gordon",
       "given": "Virginia N"
      },
      {
       "family": "Habley",
       "given": "Wesley R"
      },
      {
       "family": "Grites",
       "given": "Thomas J"
      },
      {
       "family": "Associates",
       "given": ""
      }
     ],
     "event-place": "San Francisco, CA",
     "id": "1465847/VIKANIT7",
     "issued": {
      "year": 2008
     },
     "publisher": "Jossey-Bass",
     "publisher-place": "San Francisco, CA",
     "title": "Academic Advising: A Comprehensive Handbook",
     "type": "book"
    },
    "1465847/WBHF5924": {
     "ISBN": "978-0-8223-1661-9 978-0-8223-1673-2",
     "call-number": "LB1778.2 .A24 1995",
     "edition": "Second edition",
     "editor": [
      {
       "family": "DeNeef",
       "given": "A. Leigh"
      },
      {
       "family": "Goodwin",
       "given": "Craufurd D. W."
      }
     ],
     "event-place": "Durham and London",
     "id": "1465847/WBHF5924",
     "issued": {
      "year": 1995
     },
     "number-of-pages": "348",
     "publisher": "Duke University Press",
     "publisher-place": "Durham and London",
     "title": "The academic's handbook",
     "type": "book"
    }
   }
  },
  "kernelspec": {
   "display_name": "Python 3 (ipykernel)",
   "language": "python",
   "name": "python3"
  },
  "language_info": {
   "codemirror_mode": {
    "name": "ipython",
    "version": 3
   },
   "file_extension": ".py",
   "mimetype": "text/x-python",
   "name": "python",
   "nbconvert_exporter": "python",
   "pygments_lexer": "ipython3",
   "version": "3.7.13"
  },
  "toc": {
   "base_numbering": 1,
   "nav_menu": {},
   "number_sections": true,
   "sideBar": true,
   "skip_h1_title": false,
   "title_cell": "Table of Contents",
   "title_sidebar": "Contents",
   "toc_cell": false,
   "toc_position": {},
   "toc_section_display": true,
   "toc_window_display": false
  }
 },
 "nbformat": 4,
 "nbformat_minor": 4
}
