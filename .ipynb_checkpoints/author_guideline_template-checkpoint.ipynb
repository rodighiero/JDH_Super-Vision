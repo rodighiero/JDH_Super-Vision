{
 "cells": [
  {
   "cell_type": "markdown",
   "metadata": {
    "citation-manager": {
     "citations": {
      "": []
     }
    },
    "tags": [
     "title"
    ]
   },
   "source": [
    "# Super-Vision: Tracing EPFL History Through 8,000 Doctoral Theses"
   ]
  },
  {
   "cell_type": "markdown",
   "metadata": {
    "tags": [
     "contributor"
    ]
   },
   "source": [
    " ### Dario  Rodighiero [![orcid](https://orcid.org/sites/default/files/images/orcid_16x16.png)](https://orcid.org/0000-0002-1405-7062) \n",
    "University of Groningen"
   ]
  },
  {
   "cell_type": "markdown",
   "metadata": {
    "tags": [
     "contributor"
    ]
   },
   "source": [
    "### Philippe  Rivière\n",
    "Visionscarto"
   ]
  },
  {
   "cell_type": "markdown",
   "metadata": {
    "tags": [
     "contributor"
    ]
   },
   "source": [
    "### Sarah  Kenderdine [![orcid](https://orcid.org/sites/default/files/images/orcid_16x16.png)](https://orcid.org/0000-0002-7190-9946)\n",
    "École polytechnique fédérale de Lausanne"
   ]
  },
  {
   "cell_type": "markdown",
   "metadata": {
    "tags": [
     "copyright"
    ]
   },
   "source": [
    "[![cc-by](https://licensebuttons.net/l/by/4.0/88x31.png)](https://creativecommons.org/licenses/by/4.0/) \n",
    "©<AUTHOR or ORGANIZATION / FUNDER>. Published by De Gruyter in cooperation with the University of Luxembourg Centre for Contemporary and Digital History. This is an Open Access article distributed under the terms of the [Creative Commons Attribution License CC-BY](https://creativecommons.org/licenses/by/4.0/)\n"
   ]
  },
  {
   "cell_type": "code",
   "execution_count": 1,
   "metadata": {
    "tags": [
     "cover"
    ]
   },
   "outputs": [
    {
     "data": {
      "image/png": "[encoded data removed]",
      "text/plain": [
       "<IPython.core.display.Image object>"
      ]
     },
     "metadata": {},
     "output_type": "display_data"
    }
   ],
   "source": [
    "from IPython.display import Image, display\n",
    "\n",
    "display(Image(\"./media/placeholder.png\"))"
   ]
  },
  {
   "cell_type": "markdown",
   "metadata": {
    "tags": [
     "keywords"
    ]
   },
   "source": [
    "artificial intelligence, experimental museology, mapping affinities, network visualization, text analysis, timelines"
   ]
  },
  {
   "cell_type": "markdown",
   "metadata": {
    "tags": [
     "abstract"
    ]
   },
   "source": [
    "The fiftieth anniversary of the _École Polytechnique Fédérale de Lausanne_ (EPFL) offered the opportunity to retrace the institute's history through its digital archives. Super-Vision is a digital installation with a data visualization presenting 8,000 doctoral theses. Part of a digital installation called Infinity Room 2, the project is situated at the intersection of art, science, and technology, allowing a research group to investigate the practice of advising."
   ]
  },
  {
   "cell_type": "markdown",
   "metadata": {
    "tags": [
     "abstract"
    ]
   },
   "source": [
    "Inaugurated in September 2019 at the EPFL Pavilions, Super-vision is a diachronic science mapping project that uses artificial intelligence to shed light on a dataset that would otherwise be unobservable. Its visualization is an innovative compound object comprising one network visualization in which doctoral theses are arranged according to their lexical similarity, computed with natural language processing and machine learning techniques. In addition, a circularly-bent line chart frames the network into a circle that shows the frequency of publication over the year and allows visitors to select a period to explore information."
   ]
  },
  {
   "cell_type": "markdown",
   "metadata": {
    "tags": [
     "abstract"
    ]
   },
   "source": [
    "The title Super-Vision has a twofold meaning: on the one hand, it refers to the academic practice that connects doctoral students and their supervisors; on the other hand, it relates to data visualization as a visual instrument to look at complex phenomena from a distant perspective. The result is an interactive installation that offers a different point of view to EPFL Pavilions visitors that are used to looking at the institution with different eyes."
   ]
  },
  {
   "cell_type": "markdown",
   "metadata": {},
   "source": [
    "## Introduction"
   ]
  },
  {
   "cell_type": "markdown",
   "metadata": {},
   "source": [
    "The Swiss Federal Institute of Technology in Lausanne (_École Polytechnique Fédérale de Lausanne_, or EPFL) is a young university celebrating its 50th anniversary. The EPFL hosted many events for this event, including an exhibition tracing its history via digital archives. This exhibition, called _Infinity Room 2_, was organized by Prof. Sarah Kenderdine, director of the Laboratory of Experimental Museology (eM+) and EPFL Pavilions, the institutional museum designed by the acclaimed architect Kengo Kuma. Infinity Room 2 was inaugurated in September 2019 in the wooden building of EPFL Pavilions."
   ]
  },
  {
   "cell_type": "markdown",
   "metadata": {},
   "source": [
    "EPFL features a variety of digital archives collecting data from different sources. Arguably, its most-known digital collection focuses on the Montreux Jazz Festival, a renowned Swiss music event that records and stores audiovisual material from the 60s’ <cite data-cite=\"1465847/AA6M2NSK\"></cite>. However, despite such popularity, each single EPFL archive offers its perspective on history, which is worth exploring.\n"
   ]
  },
  {
   "cell_type": "markdown",
   "metadata": {},
   "source": [
    "This article is focused on the archives regarding academic practice and its evolution. Since the advent of information systems, the multifaceted practice of researchers, teachers, and professors <cite data-cite=\"1465847/WBHF5924\"></cite> has been saved and stored for administrative and research purposes during a progressive process of datafication <cite data-cite=\"1465847/JS73NI4F\"></cite>. As a part of the exhibition Infinity Room 2, the project _Super-Vision_ aims to represent one dimension of academic activities, supervision. Supervision is synonymous with academic advising, which refers explicitly to “situations in which an institutional representative gives insight or direction to a college student about an academic, social or personal matter” <cite data-cite=\"1465847/VIKANIT7\"></cite>. Specifically, the project narrows down to a specific product of academic advising, doctoral studies. The goal is to retrace EPFL’s footsteps by visualizing the records of the Ph.D. theses defended over five decades to offer scientists and museum visitors an overview of the growth that brought EPFL to take first place in the academic ranking of young universities.\n"
   ]
  },
  {
   "cell_type": "code",
   "execution_count": null,
   "metadata": {},
   "outputs": [],
   "source": []
  },
  {
   "cell_type": "code",
   "execution_count": null,
   "metadata": {},
   "outputs": [],
   "source": []
  }
 ],
 "metadata": {
  "celltoolbar": "Tags",
  "citation-manager": {
   "items": {}
  },
  "cite2c": {
   "citations": {
    "1465847/7TFQS735": {
     "id": "1465847/7TFQS735",
     "title": "DeNeef & Goodwin. 1995. The academic's handbook.pdf",
     "type": "article"
    },
    "1465847/8VGXB95E": {
     "DOI": "10.1007/978-3-030-83647-4_1",
     "abstract": "This article addresses the potential for computational practises within archival and museological domains by charting a positional shift occurring in digital archives",
     "author": [
      {
       "family": "Kenderdine",
       "given": "Sarah"
      },
      {
       "family": "Mason",
       "given": "Ingrid"
      },
      {
       "family": "Hibberd",
       "given": "Lily"
      }
     ],
     "id": "1465847/8VGXB95E",
     "issued": {
      "year": 2021
     },
     "note": "Place: Cham\nPublisher: Springer International Publishing",
     "page": "3-18",
     "page-first": "3",
     "title": "Computational archives for experimental museology",
     "type": "article-journal",
     "volume": "EXPERIMENTAL MUSEOLOGY: IMMERSIVE VISUALISATION AND CULTURAL (BIG) DATA"
    },
    "1465847/AA6M2NSK": {
     "ISBN": "978-3-030-83647-4",
     "abstract": "This article addresses the potential for computational practises within archival and museological domains by charting a positional shift occurring in digital archives; from working with an object orientation and containment – to computing with a dimension orientation, segmentation, analytics and visualization. Computational museology allows us to conceive new trajectories that link all forms of cultural materiality: objects, knowledge systems, representation and participation. Following key definitions, the authors: outline state of the art in archival access and museological engagement through a series of examples; examine advances in the computational analysis of archives exploring forward-looking trends for massive digital cultural archives; and introduce an upcoming project, Narratives from the long tail: transforming access to audiovisual archives.",
     "author": [
      {
       "family": "Kenderdine",
       "given": "Sarah"
      },
      {
       "family": "Mason",
       "given": "Ingrid"
      },
      {
       "family": "Hibberd",
       "given": "Lily"
      }
     ],
     "container-title": "Emerging Technologies and the Digital Transformation of Museums and Heritage Sites",
     "editor": [
      {
       "family": "Shehade",
       "given": "Maria"
      },
      {
       "family": "Stylianou-Lambert",
       "given": "Theopisti"
      }
     ],
     "event-place": "Cham",
     "id": "1465847/AA6M2NSK",
     "issued": {
      "year": 2021
     },
     "page": "3-18",
     "page-first": "3",
     "publisher": "Springer International Publishing",
     "publisher-place": "Cham",
     "title": "Computational Archives for Experimental Museology",
     "type": "paper-conference"
    },
    "1465847/IXIIZPXT": {
     "id": "1465847/IXIIZPXT",
     "title": "Gordon et al. - 2008 - Academic Advising A Comprehensive Handbook.pdf",
     "type": "article"
    },
    "1465847/JS73NI4F": {
     "ISBN": "978-1-5297-3253-5 978-1-5297-3254-2",
     "author": [
      {
       "family": "Beaulieu",
       "given": "Anne"
      },
      {
       "family": "Leonelli",
       "given": "Sabina"
      }
     ],
     "edition": "Preprint Edition",
     "event-place": "Thousand Oaks, CA",
     "id": "1465847/JS73NI4F",
     "issued": {
      "year": 2021
     },
     "publisher": "Sage Publications",
     "publisher-place": "Thousand Oaks, CA",
     "title": "Data and society: a critical introduction",
     "type": "book"
    },
    "1465847/N5LFVNWQ": {
     "DOI": "10/gfvs3w",
     "abstract": "This article concerns a specific actor in the actualization process, the media. The conventional media for visualizations is the computer screen, a visual device that supports the practices of design and reading. However, visualizations also appear in other ways, for example as posters, articles, books, or projections. This article focuses, in particular, on a pretty unusual medium called floor or walkable visualization.",
     "author": [
      {
       "family": "Rodighiero",
       "given": "Dario"
      }
     ],
     "container-title": "Proceedings of the 5th Biennial Research Transdisciplinary Imaging Conference",
     "issued": {
      "date-parts": [
       [
        2018
       ]
      ]
     },
     "language": "English",
     "page": "58–73",
     "publisher": "Figshare",
     "title": "Printing walkable visualizations",
     "type": "paper-conference"
    },
    "1465847/R3MUMX97": {
     "id": "1465847/R3MUMX97",
     "title": "Kenderdine et al. - 2021 - Computational archives for experimental museology.pdf",
     "type": "article"
    },
    "1465847/VIKANIT7": {
     "edition": "Second edition",
     "editor": [
      {
       "family": "Gordon",
       "given": "Virginia N"
      },
      {
       "family": "Habley",
       "given": "Wesley R"
      },
      {
       "family": "Grites",
       "given": "Thomas J"
      },
      {
       "family": "Associates",
       "given": ""
      }
     ],
     "event-place": "San Francisco, CA",
     "id": "1465847/VIKANIT7",
     "issued": {
      "year": 2008
     },
     "publisher": "Jossey-Bass",
     "publisher-place": "San Francisco, CA",
     "title": "Academic Advising: A Comprehensive Handbook",
     "type": "book"
    },
    "1465847/WBHF5924": {
     "ISBN": "978-0-8223-1661-9 978-0-8223-1673-2",
     "call-number": "LB1778.2 .A24 1995",
     "edition": "Second edition",
     "editor": [
      {
       "family": "DeNeef",
       "given": "A. Leigh"
      },
      {
       "family": "Goodwin",
       "given": "Craufurd D. W."
      }
     ],
     "event-place": "Durham and London",
     "id": "1465847/WBHF5924",
     "issued": {
      "year": 1995
     },
     "number-of-pages": "348",
     "publisher": "Duke University Press",
     "publisher-place": "Durham and London",
     "title": "The academic's handbook",
     "type": "book"
    }
   }
  },
  "kernelspec": {
   "display_name": "Python 3 (ipykernel)",
   "language": "python",
   "name": "python3"
  },
  "language_info": {
   "codemirror_mode": {
    "name": "ipython",
    "version": 3
   },
   "file_extension": ".py",
   "mimetype": "text/x-python",
   "name": "python",
   "nbconvert_exporter": "python",
   "pygments_lexer": "ipython3",
   "version": "3.7.13"
  },
  "toc": {
   "base_numbering": 1,
   "nav_menu": {},
   "number_sections": true,
   "sideBar": true,
   "skip_h1_title": false,
   "title_cell": "Table of Contents",
   "title_sidebar": "Contents",
   "toc_cell": false,
   "toc_position": {},
   "toc_section_display": true,
   "toc_window_display": false
  }
 },
 "nbformat": 4,
 "nbformat_minor": 4
}
